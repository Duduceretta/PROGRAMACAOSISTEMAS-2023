linhas_programa = []
registradores = []
labels = {}


def exibir_memoria():
    global registradores
    print(registradores)


def inicializar_memoria():
    global registradores
    registradores = [0] * 10
    return registradores


def executar_instrucao(cmd):
    global linhas_programa

    elementos = cmd.split(' ')

    if len(elementos) == 3:
        cmd_type, param = elementos[1], elementos[2]

        if cmd_type == 'CALL':
            label = param
            flag_label = False

            for f in linhas_programa:
                if labels[label] in f:
                    flag_label = True

                if flag_label:
                    if len(f.split()) == 1 and label not in f.split():
                        break
                    else:
                        executar_instrucao(f)

            return int(elementos[0])

        if cmd_type == 'JUMP':
            destino = param
            for c in linhas_programa:
                if destino == c.split()[0]:
                    return executar_instrucao(c)
            return int(elementos[0])

        p1, p2 = map(lambda x: x[1:] if x.startswith('R') else int(x), param.split(','))

        if cmd_type == 'CMP':
            cmp_result = (registradores[p1] == registradores[p2]) if isinstance(p1, int) else (registradores[p1] == p2)
            print(f'{cmd}: {cmp_result}')

            if not cmp_result:
                return int(elementos[0]) + 1

            return int(elementos[0])

    # Restante do código não modificado


def executar_programa():
    try:
        numero_linha = 0
        fim_principal = labels['principal']

        for linha in linhas_programa:
            if linha.startswith(fim_principal):
                numero_linha = executar_instrucao(linha)
                break

        while numero_linha != -1:
            nome_linha = '0' + str(numero_linha + 1) if numero_linha <= 9 else str(numero_linha + 1)
            for linha in linhas_programa:
                if linha.startswith(nome_linha):
                    numero_linha = executar_instrucao(linha)
                    break

    except IndexError:
        print("Erro: Índice fora do alcance.")

    except KeyError:
        print("Erro: KeyError. Input não contém a label 'principal'.")


def ler_arquivo(nome_arquivo):
    global labels
    with open(nome_arquivo) as arquivo:
        flag_label = False
        nome_label = None
        for linha in arquivo:
            elementos = linha.rstrip().split(' ')

            if flag_label:
                labels[nome_label] = elementos[0]
                flag_label = False
            if linha.rstrip().endswith(':'):
                flag_label = True
                nome_label = linha[:len(linha) - 2]
            linhas_programa.append(linha.rstrip())


def exibir_linhas():
    global linhas_programa
    for i in range(len(linhas_programa)):
        print(linhas_programa[i])


def main():
    inicializar_memoria()
    exibir_memoria()
    arquivo_input = input('Digite o nome do arquivo: ')
    print('\n')
    ler_arquivo(arquivo_input)
    exibir_linhas()
    print('\n')
    print(f'Dicionário de labels: {labels}')
    executar_programa()


if __name__ == '__main__':
    main()
