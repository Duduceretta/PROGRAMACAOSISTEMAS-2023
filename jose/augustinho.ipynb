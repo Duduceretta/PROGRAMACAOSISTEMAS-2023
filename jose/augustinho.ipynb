{
  "cells": [
    {
      "cell_type": "code",
      "execution_count": null,
      "metadata": {
        "colab": {
          "base_uri": "https://localhost:8080/"
        },
        "id": "_3mHDM6l7-06",
        "outputId": "63c4970c-81dc-4656-f79f-44a551aed836"
      },
      "outputs": [
        {
          "name": "stdout",
          "output_type": "stream",
          "text": [
            "Insira o comando: h\n",
            "\n",
            "Comandos: =========================\n",
            "load <p1>,<p2> => carregar um valor\n",
            "add <p1>,<p2> => auto incremento\n",
            "sub <p1>,<p2> => auto incremento\n",
            "mult <p1>,<p2> => auto incremento\n",
            "div <p1>,<p2> => auto incremento\n",
            "\n",
            "halt => para\n",
            "\n",
            "help => manual\n",
            "===================================\n",
            "    \n",
            "Memória:\n",
            "[0.0, 0.0, 0.0, 0.0, 0.0, 0.0, 0.0, 0.0, 0.0, 0.0]\n",
            "\n"
          ]
        }
      ],
      "source": [
        "registros = []\n",
        "\n",
        "def memoria():\n",
        "  global registros\n",
        "  for i in range(10):\n",
        "    registros.append(0.0);\n",
        "  return registros\n",
        "\n",
        "def mostraMemoria ():\n",
        "  global registros\n",
        "  print('Memória:')\n",
        "  print(registros)\n",
        "  print()\n",
        "\n",
        "memoria()\n",
        "cmd = ''\n",
        "while (cmd != 'halt'):\n",
        "  cmd = input('Insira o comando: ').lower()\n",
        "\n",
        "  elementos = cmd.split(' ')\n",
        "  p1 = 0\n",
        "  p2 = 0\n",
        "\n",
        "  if len(elementos) == 2:\n",
        "    p = elementos[1].split(',')\n",
        "    p1 = p[0]\n",
        "    p2 = p[1]\n",
        "\n",
        "    posicaoDestino = int(p1[1:])\n",
        "\n",
        "    if p2.startswith('r'):\n",
        "      valor = float(registros[int(p2[1:])])\n",
        "    else:\n",
        "      valor = float(p2)\n",
        "\n",
        "    if elementos[0] == 'load':\n",
        "        registros[posicaoDestino] = valor\n",
        "\n",
        "    elif elementos[0] == 'add':\n",
        "        registros[posicaoDestino] += valor\n",
        "\n",
        "    elif elementos[0] == 'sub':\n",
        "        registros[posicaoDestino] -= valor\n",
        "\n",
        "    elif elementos[0] == 'mult':\n",
        "        registros[posicaoDestino] *= valor\n",
        "\n",
        "    elif elementos[0] == 'div':\n",
        "        registros[posicaoDestino] /= valor\n",
        "\n",
        "  if cmd == 'help' or cmd == 'h':\n",
        "    print('''\n",
        "Comandos: =========================\n",
        "load <p1>,<p2> => carregar um valor\n",
        "add <p1>,<p2> => auto incremento\n",
        "sub <p1>,<p2> => auto incremento\n",
        "mult <p1>,<p2> => auto incremento\n",
        "div <p1>,<p2> => auto incremento\n",
        "\n",
        "halt => para\n",
        "\n",
        "help => manual\n",
        "===================================\n",
        "    ''')\n",
        "\n",
        "  mostraMemoria()"
      ]
    }
  ],
  "metadata": {
    "colab": {
      "provenance": []
    },
    "kernelspec": {
      "display_name": "Python 3",
      "name": "python3"
    },
    "language_info": {
      "name": "python",
      "version": "3.10.13"
    }
  },
  "nbformat": 4,
  "nbformat_minor": 0
}
