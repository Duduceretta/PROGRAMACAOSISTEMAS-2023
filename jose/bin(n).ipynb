{
  "nbformat": 4,
  "nbformat_minor": 0,
  "metadata": {
    "colab": {
      "provenance": []
    },
    "kernelspec": {
      "name": "python3",
      "display_name": "Python 3"
    },
    "language_info": {
      "name": "python"
    }
  },
  "cells": [
    {
      "cell_type": "markdown",
      "source": [
        "Criar um algoritmo que transforma qualquer número (positivo/negativo e inteiro/fracionado)"
      ],
      "metadata": {
        "id": "-2aJTDIb7y6c"
      }
    },
    {
      "cell_type": "code",
      "execution_count": null,
      "metadata": {
        "id": "HJcY_dBt7qyT"
      },
      "outputs": [],
      "source": [
        "#sinal - magnitude\n",
        "def paraBin(n):\n",
        "  n = float(n)\n",
        "  sin = 1 if n < 0 else 0\n",
        "  num = abs(n)\n",
        "\n",
        "  fra = num % 1\n",
        "  inte = num // 1\n",
        "\n",
        "  bin = ''\n",
        "  bFra = ',' if fra != 0 else ''\n",
        "\n",
        "#parte inteira\n",
        "\n",
        "  while inte != 0:\n",
        "    bin += f'{inte%2:.0f}'\n",
        "    inte = inte // 2\n",
        "\n",
        "  bin = bin if num >= 1 else '0'\n",
        "\n",
        "  bin += str(sin)\n",
        "  bin = bin[::-1]\n",
        "\n",
        "  #parte fracionada\n",
        "\n",
        "  while fra != 0:\n",
        "    fra *= 2\n",
        "    bFra += str(fra)[0]\n",
        "    fra %= 1\n",
        "    if len(bFra) > 5:\n",
        "      break\n",
        "\n",
        "  return bin+bFra\n",
        "\n",
        "n = input('Insira um número racional finito de forma decimal: ').replace(',','.')\n",
        "print(paraBin(n))"
      ]
    }
  ]
}