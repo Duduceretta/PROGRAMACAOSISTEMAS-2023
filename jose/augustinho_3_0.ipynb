{
  "cells": [
    {
      "cell_type": "code",
      "execution_count": null,
      "metadata": {
        "id": "_3mHDM6l7-06"
      },
      "outputs": [
        {
          "ename": "",
          "evalue": "",
          "output_type": "error",
          "traceback": [
            "\u001b[1;31mA execução de células com '/bin/python' requer o pacote ipykernel.\n",
            "\u001b[1;31mRun the following command to install 'ipykernel' into the Python environment. \n",
            "\u001b[1;31mCommand: '/bin/python -m pip install ipykernel -U --user --force-reinstall'"
          ]
        }
      ],
      "source": [
        "registros = []\n",
        "\n",
        "def memoria():\n",
        "  global registros\n",
        "  for i in range(10):\n",
        "    registros.append(0.0);\n",
        "  return registros\n",
        "\n",
        "def mostraMemoria ():\n",
        "  global registros\n",
        "  print('Memória:')\n",
        "  print(registros)\n",
        "  print()\n",
        "\n",
        "memoria()\n",
        "cmd = ''\n",
        "while (cmd != 'halt'):\n",
        "  cmd = input('Insira o comando: ').lower()\n",
        "\n",
        "  elementos = cmd.split(' ')\n",
        "  p1 = 0\n",
        "  p2 = 0\n",
        "\n",
        "  if len(elementos) == 2:\n",
        "    p = elementos[1].split(',')\n",
        "    p1 = p[0]\n",
        "    p2 = p[1]\n",
        "\n",
        "    posicaoDestino = int(p1[1:])\n",
        "\n",
        "    if p2.startswith('r'):\n",
        "      valor = registros[int(p2[1:])]\n",
        "    else:\n",
        "      valor = int(p2)\n",
        "\n",
        "    if elementos[0] == 'load':\n",
        "        registros[posicaoDestino] = valor\n",
        "\n",
        "    elif elementos[0] == 'add':\n",
        "        registros[posicaoDestino] += valor\n",
        "\n",
        "    elif elementos[0] == 'sub':\n",
        "        registros[posicaoDestino] -= valor\n",
        "\n",
        "    elif elementos[0] == 'mult':\n",
        "        registros[posicaoDestino] *= valor\n",
        "\n",
        "    elif elementos[0] == 'div':\n",
        "        registros[posicaoDestino] /= valor\n",
        "\n",
        "  if cmd == 'help':\n",
        "    print('''\n",
        "Comandos: =========================\n",
        "load <p1>,<p2> => carregar um valor\n",
        "add <p1>,<p2> => auto incremento\n",
        "sub <p1>,<p2> => auto incremento\n",
        "mult <p1>,<p2> => auto incremento\n",
        "div <p1>,<p2> => auto incremento\n",
        "\n",
        "halt => para\n",
        "\n",
        "help => manual\n",
        "===================================\n",
        "    ''')\n",
        "\n",
        "  mostraMemoria()"
      ]
    }
  ],
  "metadata": {
    "colab": {
      "provenance": []
    },
    "kernelspec": {
      "display_name": "Python 3",
      "name": "python3"
    },
    "language_info": {
      "name": "python",
      "version": "3.10.13"
    }
  },
  "nbformat": 4,
  "nbformat_minor": 0
}
