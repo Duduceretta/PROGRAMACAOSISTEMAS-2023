{
  "nbformat": 4,
  "nbformat_minor": 0,
  "metadata": {
    "colab": {
      "provenance": []
    },
    "kernelspec": {
      "name": "python3",
      "display_name": "Python 3"
    },
    "language_info": {
      "name": "python"
    }
  },
  "cells": [
    {
      "cell_type": "code",
      "execution_count": 6,
      "metadata": {
        "colab": {
          "base_uri": "https://localhost:8080/"
        },
        "id": "H-xVkFbqZ8rb",
        "outputId": "4e18cdca-8ab5-47db-f733-155f5b2b9aed"
      },
      "outputs": [
        {
          "output_type": "stream",
          "name": "stdout",
          "text": [
            "Digite um número decimal:-10.10\n",
            "Número binário:: -1010.00011001\n"
          ]
        }
      ],
      "source": [
        "numero = float(input('Digite um número decimal:'))\n",
        "\n",
        "if numero < 0:\n",
        "   sinal = '-'\n",
        "   numero = abs(numero)\n",
        "else:\n",
        "   sinal = ''\n",
        "\n",
        "parte_inteira = int(numero)\n",
        "parte_fracionaria = numero - parte_inteira\n",
        "\n",
        "binario_inteiro = bin(parte_inteira).replace(\"0b\",\"\")\n",
        "binario_fracionario = \"\"\n",
        "\n",
        "for i in range(8):\n",
        "    parte_fracionaria *= 2\n",
        "    bit = int(parte_fracionaria)\n",
        "    binario_fracionario += str(bit)\n",
        "    parte_fracionaria -= bit\n",
        "\n",
        "resultado = f\"{sinal}{binario_inteiro}.{binario_fracionario}\"\n",
        "\n",
        "print(f\"Número binário:: {resultado}\")"
      ]
    }
  ]
}