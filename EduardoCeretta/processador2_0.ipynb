{
  "nbformat": 4,
  "nbformat_minor": 0,
  "metadata": {
    "colab": {
      "provenance": []
    },
    "kernelspec": {
      "name": "python3",
      "display_name": "Python 3"
    },
    "language_info": {
      "name": "python"
    }
  },
  "cells": [
    {
      "cell_type": "code",
      "execution_count": 5,
      "metadata": {
        "colab": {
          "base_uri": "https://localhost:8080/"
        },
        "id": "aOdZ9uTyhBVa",
        "outputId": "30337104-af70-45a6-c753-0d11a17b8114"
      },
      "outputs": [
        {
          "name": "stdout",
          "output_type": "stream",
          "text": [
            "Digite o comando:LOAD R0,20\n",
            "0 10\n",
            "[20, 0, 0, 0, 0, 0, 0, 0, 0, 0]\n",
            "Digite o comando:LOAD R3,32\n",
            "3 10\n",
            "[20, 0, 0, 32, 0, 0, 0, 0, 0, 0]\n",
            "Digite o comando:ADD R0,R3\n",
            "[52, 0, 0, 32, 0, 0, 0, 0, 0, 0]\n",
            "Digite o comando:ADD R0,10\n",
            "0 10\n",
            "[62, 0, 0, 32, 0, 0, 0, 0, 0, 0]\n",
            "Digite o comando:LOAD R7,66\n",
            "7 10\n",
            "[62, 0, 0, 32, 0, 0, 0, 66, 0, 0]\n",
            "Digite o comando:ADD R3,R0\n",
            "[62, 0, 0, 94, 0, 0, 0, 66, 0, 0]\n",
            "Digite o comando:ADD R2,28\n",
            "2 10\n",
            "[62, 0, 28, 94, 0, 0, 0, 66, 0, 0]\n",
            "Digite o comando:LOAD R0,9\n",
            "0 10\n",
            "[9, 0, 28, 94, 0, 0, 0, 66, 0, 0]\n",
            "Digite o comando:HALT\n"
          ]
        }
      ],
      "source": [
        "#processador experimental\n",
        "registros = []\n",
        "def mostraMemoria():\n",
        "  global registros\n",
        "  print(registros)\n",
        "\n",
        "def memoria():\n",
        "  global registros\n",
        "  for i in range(10):\n",
        "    registros.append(0)\n",
        "  return registros\n",
        "\n",
        "memoria()#constroi a memoria\n",
        "cmd=''\n",
        "while(cmd!='HALT'):\n",
        "  cmd = input('Digite o comando:')\n",
        "  elementos = cmd.split(' ')\n",
        "  if len(elementos)==2:\n",
        "    param=elementos[1].split(',')\n",
        "    p1=param[0]\n",
        "    p2=param[1]\n",
        "    if elementos[0]=='LOAD':\n",
        "      if p2.startswith('R'):\n",
        "        print('P2 eh um registro')\n",
        "        posicaoOrigem = int(p2[1:])\n",
        "        posicaoDestino = int(p1[1:])\n",
        "        registros[posicaoDestino]=registros[posicaoOrigem]\n",
        "        mostraMemoria()\n",
        "      else:\n",
        "        posicao = int(p1[1:])\n",
        "        print(posicao,len(registros))\n",
        "        registros[posicao]=int(p2)\n",
        "        mostraMemoria()\n",
        "    elif elementos[0] == 'ADD':\n",
        "      if p2.startswith('R'):\n",
        "        posicaoOrigem = int(p2[1:])\n",
        "        posicaoDestino = int(p1[1:])\n",
        "        registros[posicaoDestino] += registros[posicaoOrigem]\n",
        "        mostraMemoria()\n",
        "      else:\n",
        "        posicao = int(p1[1:])\n",
        "        print(posicao,len(registros))\n",
        "        registros[posicao] += int(p2)\n",
        "        mostraMemoria()"
      ]
    }
  ]
}