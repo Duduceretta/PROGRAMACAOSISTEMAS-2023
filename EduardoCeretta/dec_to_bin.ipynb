{
  "nbformat": 4,
  "nbformat_minor": 0,
  "metadata": {
    "colab": {
      "provenance": []
    },
    "kernelspec": {
      "name": "python3",
      "display_name": "Python 3"
    },
    "language_info": {
      "name": "python"
    }
  },
  "cells": [
    {
      "cell_type": "markdown",
      "source": [
        "Codigo para converter decimal (inteiro)<br>para binario"
      ],
      "metadata": {
        "id": "03kOJhI-s-FL"
      }
    },
    {
      "cell_type": "code",
      "execution_count": null,
      "metadata": {
        "colab": {
          "base_uri": "https://localhost:8080/"
        },
        "id": "-bT1dPCts6H0",
        "outputId": "74af5cbc-c586-4810-96a3-ce03475e7887"
      },
      "outputs": [
        {
          "output_type": "stream",
          "name": "stdout",
          "text": [
            "Digite um numero:2\n",
            "Numero em binario: 10\n"
          ]
        }
      ],
      "source": [
        "numero = int(input('Digite um numero:'))\n",
        "numeroBin = '' #OUTPUT\n",
        "result = int(numero/2)\n",
        "while result >= 1:\n",
        "  sbtn = result*2\n",
        "  diff = numero-sbtn\n",
        "  numeroBin = str(diff)+numeroBin\n",
        "  numero = result\n",
        "  if result==1 or result == 0:\n",
        "    break\n",
        "  result = int(numero/2)\n",
        "numeroBin = str(result)+numeroBin\n",
        "print(f'Numero em binario: {numeroBin}')"
      ]
    },
    {
      "cell_type": "markdown",
      "source": [
        "Codigo para converter decimal inteiro(negativo)\n",
        "para binario"
      ],
      "metadata": {
        "id": "_QDJlQci8W5Q"
      }
    },
    {
      "cell_type": "code",
      "source": [
        "numero = int(input('Digite um numero:'))\n",
        "index = 1\n",
        "auxiliar = numero\n",
        "soma = 0\n",
        "lista2 = [1,1]\n",
        "lista = []\n",
        "numeroBin = '' #OUTPUT\n",
        "result = int(numero/2)\n",
        "\n",
        "while result >= 1:\n",
        "  sbtn = result*2\n",
        "  diff = numero-sbtn\n",
        "  numeroBin = str(diff)+numeroBin\n",
        "  numero = result\n",
        "  if result==1 or result == 0:\n",
        "    break\n",
        "  result = int(numero/2)\n",
        "\n",
        "numeroBin = str(result)+numeroBin\n",
        "lista = list(numeroBin)\n",
        "\n",
        "for i in range(len(lista)): #inverte o numero\n",
        "  if lista[i] == '1':\n",
        "    lista[i] = 0 #troca os 0 por 1\n",
        "  else:\n",
        "    lista[i] = 1 #troca os 1 por 0\n",
        "\n",
        "for indice in (reversed(range(len(lista)))): #soma 1 ao numero invertido\n",
        "  soma = lista[indice] + index\n",
        "  if soma == 2:\n",
        "    lista[indice] = 0\n",
        "    index = 1\n",
        "  else:\n",
        "    lista[indice] = soma\n",
        "    index = 0\n",
        "\n",
        "lista.insert(0,1) #insere o bit de sinal '1'\n",
        "\n",
        "if auxiliar == 0:\n",
        "  print(\"zero em binario e 0\")\n",
        "elif auxiliar == 1:\n",
        "  print(lista2)\n",
        "else:\n",
        "  print(f'Numero binario negativo: {lista}')"
      ],
      "metadata": {
        "colab": {
          "base_uri": "https://localhost:8080/"
        },
        "id": "pUfZG2zp8jbi",
        "outputId": "99f25f2e-7507-4aea-8222-40d106ad8077"
      },
      "execution_count": 1,
      "outputs": [
        {
          "output_type": "stream",
          "name": "stdout",
          "text": [
            "Digite um numero:10\n",
            "Numero binario negativo: [1, 0, 1, 1, 0]\n"
          ]
        }
      ]
    },
    {
      "cell_type": "markdown",
      "source": [
        "Converter decimal fracionario para binario"
      ],
      "metadata": {
        "id": "Dl1AGBHt1j61"
      }
    },
    {
      "cell_type": "code",
      "source": [
        "numero = float(input(\"Digite um numero decimal: \"))\n",
        "numero2 = int(numero)\n",
        "\n",
        "if numero < 0:\n",
        "    sinal = '-'\n",
        "    numero = abs(numero)\n",
        "else:\n",
        "    sinal = ''\n",
        "\n",
        "parte_inteira = int(numero)\n",
        "partefrac = numero - parte_inteira\n",
        "\n",
        "numeroBin = '' #OUTPUT\n",
        "result = int(numero2/2)\n",
        "while result >= 1:\n",
        "  sbtn = result*2\n",
        "  diff = numero2-sbtn\n",
        "  numeroBin = str(diff)+numeroBin\n",
        "  numero2 = result\n",
        "  if result==1 or result == 0:\n",
        "    break\n",
        "  result = int(numero2/2)\n",
        "numeroBin = str(result)+numeroBin\n",
        "binario_fracionario = \"\"\n",
        "\n",
        "for _ in range(4):\n",
        "    partefrac *= 2\n",
        "    bit = int(partefrac)\n",
        "    binario_fracionario += str(bit)\n",
        "    partefrac -= bit\n",
        "\n",
        "resultado = f\"{sinal}{numeroBin}.{binario_fracionario}\"\n",
        "\n",
        "print(f\"Numero binario:: {resultado}\")"
      ],
      "metadata": {
        "colab": {
          "base_uri": "https://localhost:8080/"
        },
        "id": "jC3K67T6GHPm",
        "outputId": "08460603-2198-4588-9b3f-0bb7692026f0"
      },
      "execution_count": 2,
      "outputs": [
        {
          "output_type": "stream",
          "name": "stdout",
          "text": [
            "Digite um numero decimal: 10.10\n",
            "Numero binario:: 1010.0001\n"
          ]
        }
      ]
    }
  ]
}