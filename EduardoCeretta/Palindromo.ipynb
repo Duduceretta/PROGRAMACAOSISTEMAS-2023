{
  "nbformat": 4,
  "nbformat_minor": 0,
  "metadata": {
    "colab": {
      "provenance": []
    },
    "kernelspec": {
      "name": "python3",
      "display_name": "Python 3"
    },
    "language_info": {
      "name": "python"
    }
  },
  "cells": [
    {
      "cell_type": "code",
      "execution_count": 2,
      "metadata": {
        "colab": {
          "base_uri": "https://localhost:8080/"
        },
        "id": "rl6A5V-4wDOB",
        "outputId": "6c913414-167e-4b5b-e83e-4427c22ccb1f"
      },
      "outputs": [
        {
          "output_type": "stream",
          "name": "stdout",
          "text": [
            "Digite uma frase: rodador\n",
            "É um palindromo\n",
            "Palavra digitada: rodador\n",
            "Palavra invertida: rodador\n"
          ]
        }
      ],
      "source": [
        "#ALUNO Eduardo C. Ceretta\n",
        "\n",
        "#Palavra digitada pelo ususario, convertida para letras minusculas\n",
        "frase = str(input('Digite uma frase: ')).lower()\n",
        "#Retira os espaços da frase\n",
        "frase = frase.replace(' ', '')\n",
        "#Variavel que ira receber a palavra invertida\n",
        "palavrainversa = ''\n",
        "\n",
        "#Começa o loop na palavra invertida\n",
        "for letra in reversed(frase):\n",
        "  palavrainversa += letra #Pega cada letra de tras para frente\n",
        "\n",
        "#Compara as duas sentenças\n",
        "if frase == palavrainversa:\n",
        "  print(\"É um palindromo\") #Caso forem iguais\n",
        "else:\n",
        "  print(\"Nao é um palindromo\") #caso forem diferentes\n",
        "\n",
        "print(f\"Palavra digitada: {frase}\")\n",
        "print(f\"Palavra invertida: {palavrainversa}\")"
      ]
    }
  ]
}