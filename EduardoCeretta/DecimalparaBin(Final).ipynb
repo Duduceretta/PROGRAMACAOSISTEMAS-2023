{
  "nbformat": 4,
  "nbformat_minor": 0,
  "metadata": {
    "colab": {
      "provenance": []
    },
    "kernelspec": {
      "name": "python3",
      "display_name": "Python 3"
    },
    "language_info": {
      "name": "python"
    }
  },
  "cells": [
    {
      "cell_type": "code",
      "execution_count": 79,
      "metadata": {
        "colab": {
          "base_uri": "https://localhost:8080/"
        },
        "id": "O_aU6sXdooLJ",
        "outputId": "e6e1d0da-24f9-4f8c-c598-d0178ae40a98"
      },
      "outputs": [
        {
          "output_type": "stream",
          "name": "stdout",
          "text": [
            "Digite um numero: -10.10\n",
            "Numero transformado para binario, abaixo\n",
            "[1, 0, 1, 1, 0, '.', 0, 0, 0, 1, 1]\n"
          ]
        }
      ],
      "source": [
        "#ALUNO EDUARDO C. CERETTA\n",
        "\n",
        "import math\n",
        "#Numero digitado pelo usuario\n",
        "numero = float(input(\"Digite um numero: \"))\n",
        "\n",
        "#Verifica se o numero e negativo\n",
        "if numero < 0:\n",
        "  flag = 1 #Flag para realizar o complemento de 2 posteriormente\n",
        "  numero = numero * -1 #Numero positivo para transformar em binario\n",
        "else: #Caso for positivo flag = 0 e nao realiza o complemento de 2\n",
        "  flag = 0\n",
        "\n",
        "#Pega o numero e subtrai a parte inteira, obtendo a parte fracionaria\n",
        "parte_fracionaria = numero - int(numero)\n",
        "#Arredonda a parte fracionaria para 2 casas decimais\n",
        "parte_fracionaria = round(parte_fracionaria, 2)\n",
        "#Pega somente a parte inteira\n",
        "parte_inteira = int(numero)\n",
        "#Lista para colocar o numero inteiro em binario\n",
        "lista = []\n",
        "\n",
        "#Algoritmo para transformar o numero para binario\n",
        "while parte_inteira >= 2:\n",
        "  resto = int(parte_inteira % 2) #Resto das divisoes (0 ou 1)\n",
        "  lista.append(resto) #Guarda cada bit na lista\n",
        "  parte_inteira = int(parte_inteira / 2); #Atualiza a parte inteira\n",
        "\n",
        "lista.append(parte_inteira) #Adiciona o resultado da ultima divisao na lista\n",
        "lista.reverse() #Inverte a lista\n",
        "\n",
        "#Caso o numero for negativo (flag == 1), realizar o complemento de dois\n",
        "if flag == 1:\n",
        "  for i in range(len(lista)): #Inverte cada bit\n",
        "    if lista[i] == 0:\n",
        "      lista[i] = 1 #bit == 0 recebe 1\n",
        "    elif lista[i] == 1:\n",
        "      lista[i] = 0 #bit == 1 recebe 0\n",
        "\n",
        "#Variaveis utilizadas no complemento de 2\n",
        "soma = 0\n",
        "carry = 1 #Transporte, começa adicionando 1\n",
        "\n",
        "if flag == 1:\n",
        "  lista.reverse() #Inverte para começar a soma do bit mais a direita\n",
        "  for i in range(len(lista)):\n",
        "    soma = lista[i] + carry #Soma o bit mais o carry\n",
        "    if soma == 2: #Soma bit 1 + 1(carry)\n",
        "      lista[i] = 0\n",
        "      carry = 1\n",
        "    elif soma == 1: #Soma bit 0 + 1(carry) ou o inverso\n",
        "      lista[i] = 1\n",
        "      carry = 0\n",
        "    elif soma == 0: #Soma bit 0 + 0(carry)\n",
        "      lista[i] = 0\n",
        "      carry = 0\n",
        "\n",
        "if flag == 1:\n",
        "  lista.reverse() #Volta a lista ao normal\n",
        "  lista.insert(0, 1) #Adiciona 1 ao inicio indicando que o numero e negativo\n",
        "\n",
        "lista.append('.') #Ponto para separar a parte inteira da fracionaria\n",
        "i = 0 #Indice\n",
        "#Calcular a parte fracionaria do numero em binario\n",
        "while i < 5: #Precisao de 5 casas decimais\n",
        "  resultado = int(parte_fracionaria * 2) #Mult a parte fracionaria por 2, pega a parte inteira (0 ou 1)\n",
        "  lista.append(resultado) #Adiciona ao restante do numero\n",
        "  parte_fracionaria = abs(resultado - (parte_fracionaria * 2)) #Pega o valor absoluto (sempre positivo)\n",
        "  i = i + 1 #Incremento do i\n",
        "\n",
        "print(\"Numero transformado para binario, abaixo\")\n",
        "print(lista) #Mostra o numero na tela\n"
      ]
    }
  ]
}