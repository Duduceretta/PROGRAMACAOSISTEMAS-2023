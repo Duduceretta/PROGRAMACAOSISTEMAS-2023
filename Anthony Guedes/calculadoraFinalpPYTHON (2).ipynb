{
  "nbformat": 4,
  "nbformat_minor": 0,
  "metadata": {
    "colab": {
      "provenance": []
    },
    "kernelspec": {
      "name": "python3",
      "display_name": "Python 3"
    },
    "language_info": {
      "name": "python"
    }
  },
  "cells": [
    {
      "cell_type": "code",
      "execution_count": 1,
      "metadata": {
        "id": "fs1yHvyLVygn",
        "colab": {
          "base_uri": "https://localhost:8080/"
        },
        "outputId": "be960392-c58c-4853-9d07-6a90501b66f4"
      },
      "outputs": [
        {
          "output_type": "stream",
          "name": "stdout",
          "text": [
            "Digite um número inteiro ou decimal: -10.10\n",
            "O número em binário é: -1010.0001\n"
          ]
        }
      ],
      "source": [
        "numero = float(input('Digite um número inteiro ou decimal: '))\n",
        "numeroBin = ''  # saida\n",
        "\n",
        "# sinal\n",
        "sinal = ''\n",
        "if numero < 0:\n",
        "    sinal = '-'\n",
        "    numero = -numero\n",
        "\n",
        "# parte inteira e parte fracionaria\n",
        "inteiro = int(numero)\n",
        "parte_fracionaria = numero - inteiro\n",
        "\n",
        "#  inteiro para binario\n",
        "while inteiro >= 1:\n",
        "    resto = inteiro % 2\n",
        "    numeroBin = str(resto) + numeroBin\n",
        "    inteiro = inteiro // 2\n",
        "\n",
        "#  o ponto decimal\n",
        "numeroBin += '.'\n",
        "\n",
        "#  fracionario para binario\n",
        "for _ in range(4):\n",
        "    parte_fracionaria *= 2\n",
        "    bit = int(parte_fracionaria)\n",
        "    numeroBin += str(bit)\n",
        "    parte_fracionaria -= bit\n",
        "\n",
        "\n",
        "numeroBin = sinal + numeroBin\n",
        "\n",
        "print('O número em binário é:', numeroBin)\n",
        "\n",
        "\n",
        "\n",
        "\n"
      ]
    }
  ]
}