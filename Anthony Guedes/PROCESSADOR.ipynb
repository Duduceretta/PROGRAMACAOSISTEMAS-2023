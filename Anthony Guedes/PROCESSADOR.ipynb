{
  "nbformat": 4,
  "nbformat_minor": 0,
  "metadata": {
    "colab": {
      "provenance": []
    },
    "kernelspec": {
      "name": "python3",
      "display_name": "Python 3"
    },
    "language_info": {
      "name": "python"
    }
  },
  "cells": [
    {
      "cell_type": "code",
      "execution_count": null,
      "metadata": {
        "id": "KAjWzosnBWED"
      },
      "outputs": [],
      "source": [
        "#processador experimental  adicionar\n",
        "registros = []\n",
        "def mostraMemoria():\n",
        "  global registros\n",
        "  print(registros)\n",
        "\n",
        "def memoria():\n",
        "  global registros\n",
        "  for i in range(10):\n",
        "    registros.append(0)\n",
        "  return registros\n",
        "\n",
        "memoria()#constroi a memoria\n",
        "cmd=''\n",
        "while(cmd!='HALT'):\n",
        "  cmd = input('Digite o comando:')\n",
        "  elementos = cmd.split(' ')\n",
        "  if len(elementos)==2:#tamanho\n",
        "    param=elementos[1].split(',')\n",
        "    p1=param[0]\n",
        "    p2=param[1]\n",
        "    #cmd = load r1,10\n",
        "    #elementos = [load][r1,10]\n",
        "    #elementos[1] = [r1,10]\n",
        "    #param = [r1,10].split(,)\n",
        "    #param = [r1][10]\n",
        "    #p1 = param[0]\n",
        "    #p2 = param[1]\n",
        "    if elementos[0]=='LOAD':\n",
        "      if p2.startswith('R'):\n",
        "        print('P2 eh um registro')\n",
        "        posicaoOrigem = int(p2[1:])\n",
        "        posicaoDestino = int(p1[1:])\n",
        "        registros[posicaoDestino]=registros[posicaoOrigem]\n",
        "        mostraMemoria()\n",
        "      else:\n",
        "        posicao = int(p1[1:])\n",
        "        print(posicao,len(registros))\n",
        "        registros[posicao]=int(p2)\n",
        "        mostraMemoria()\n",
        "    elif elementos[0]=='ADD':\n",
        "      if p2.startswith('R'): #caso p2 seja resgitro ex: R1\n",
        "        print('P2 eh um registro')\n",
        "        posicaoOrigem = int(p2[1:])\n",
        "        posicaoDestino = int(p1[1:])\n",
        "        registros[posicaoDestino]+=registros[posicaoOrigem]\n",
        "        mostraMemoria()\n",
        "      else:#valor absoluto p2\n",
        "        posicao = int(p1[1:])\n",
        "        print(posicao,len(registros))\n",
        "        registros[posicao]+=int(p2)\n",
        "        mostraMemoria()\n",
        ""
      ]
    }
  ]
}