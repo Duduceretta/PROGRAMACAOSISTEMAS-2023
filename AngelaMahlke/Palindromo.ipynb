{
  "nbformat": 4,
  "nbformat_minor": 0,
  "metadata": {
    "colab": {
      "provenance": []
    },
    "kernelspec": {
      "name": "python3",
      "display_name": "Python 3"
    },
    "language_info": {
      "name": "python"
    }
  },
  "cells": [
    {
      "cell_type": "markdown",
      "source": [
        "#Palíndromo"
      ],
      "metadata": {
        "id": "OCTaujtEtuGJ"
      }
    },
    {
      "cell_type": "code",
      "source": [
        "word = str(input(\"Insira uma palavra -> \"))\n",
        "\n",
        "inverseword = word[::-1]\n",
        "\n",
        "print(f\"\\n{word}\")\n",
        "print(f\"{inverseword}\\n\")\n",
        "\n",
        "if word == inverseword:\n",
        "  print(\"A palavra informada é palíndromo!\")\n",
        "else:\n",
        "  print(\"A palavra não é palíndromo...\")"
      ],
      "metadata": {
        "colab": {
          "base_uri": "https://localhost:8080/"
        },
        "id": "XZP8ftE0tz3P",
        "outputId": "90806803-9543-4607-c23e-cdd694134680"
      },
      "execution_count": 5,
      "outputs": [
        {
          "output_type": "stream",
          "name": "stdout",
          "text": [
            "Insira uma palavra -> ralar\n",
            "\n",
            "ralar\n",
            "ralar\n",
            "\n",
            "A palavra informada é palíndromo!\n"
          ]
        }
      ]
    }
  ]
}