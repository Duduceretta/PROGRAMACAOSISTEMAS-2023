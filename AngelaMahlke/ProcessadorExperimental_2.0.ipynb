{
  "nbformat": 4,
  "nbformat_minor": 0,
  "metadata": {
    "colab": {
      "provenance": []
    },
    "kernelspec": {
      "name": "python3",
      "display_name": "Python 3"
    },
    "language_info": {
      "name": "python"
    }
  },
  "cells": [
    {
      "cell_type": "markdown",
      "source": [
        "#Processador experimental 16bits"
      ],
      "metadata": {
        "id": "VpMOmDu87zwl"
      }
    },
    {
      "cell_type": "code",
      "source": [
        "registros = []\n",
        "\n",
        "def MostraMemoria():\n",
        "  global registros\n",
        "  print(registros)\n",
        "\n",
        "def memoria():\n",
        "  global registros\n",
        "\n",
        "  for i in range(10):\n",
        "    registros.append(0)\n",
        "\n",
        "  return registros\n",
        "\n",
        "memoria()\n",
        "\n",
        "cmd = ''\n",
        "\n",
        "while(cmd != 'HALT'):\n",
        "  cmd = input('Digite o comando: ')\n",
        "  elementos = cmd.split(' ') # elementos = ['comando', 'parametros']\n",
        "\n",
        "  if len(elementos) == 2:\n",
        "    param = elementos[1] .split(',') # parametros = ['parametro 1', 'parametro 2']\n",
        "    p1 = param[0]\n",
        "    p2 = param[1]\n",
        "\n",
        "    if elementos[0] == 'LOAD':\n",
        "      if p2.startswith('R'):\n",
        "        posicaoOrigem = int(p2[1:]) # PARAMETRO 2 TIRANDO O R\n",
        "        posicaoDestino = int(p1[1:]) # PARAMETRO 1 TIRANDO O R\n",
        "        registros[posicaoDestino] = registros[posicaoOrigem]\n",
        "        MostraMemoria()\n",
        "      else:\n",
        "        posicao = int(p1[1:])\n",
        "        registros[posicao] = int(p2)\n",
        "        MostraMemoria()\n",
        "    elif elementos[0] == 'ADD':\n",
        "        if p2.startswith('R'):\n",
        "\n",
        "          posDestino = int(p1[1:])\n",
        "          posOrigem = int(p2[1:])\n",
        "\n",
        "          registros[posDestino] += registros[posOrigem]\n",
        "          MostraMemoria()\n",
        "        else:\n",
        "          posDestino = int(p1[1:])\n",
        "          ValorParametro = int(p2)\n",
        "\n",
        "          registros[posDestino] += ValorParametro\n",
        "          MostraMemoria()\n",
        "\n",
        "    elif elementos[0] == 'SUB':\n",
        "      if p2.startswith('R'):\n",
        "\n",
        "        posDestino = int(p1[1:])\n",
        "        posOrigem = int(p2[1:])\n",
        "\n",
        "        registros[posDestino] = registros[posDestino] - registros[posOrigem]\n",
        "        MostraMemoria()\n",
        "      else:\n",
        "        posDestino = int(p1[1:])\n",
        "        ValorParametro = int(p2)\n",
        "\n",
        "        registros[posDestino] = registros[posDestino] - ValorParametro\n",
        "        MostraMemoria()\n",
        "\n",
        "    elif elementos[0] == 'MULT':\n",
        "      if p2.startswith('R'):\n",
        "\n",
        "        posDestino = int(p1[1:])\n",
        "        posOrigem = int(p2[1:])\n",
        "\n",
        "        registros[posDestino] = registros[posDestino] * registros[posOrigem]\n",
        "        MostraMemoria()\n",
        "\n",
        "      else:\n",
        "        posDestino = int(p1[1:])\n",
        "        ValorParametro = int(p2)\n",
        "\n",
        "        registros[posDestino] = registros[posDestino] * ValorParametro\n",
        "        MostraMemoria()\n",
        "    elif elementos[0] == 'DIV':\n",
        "\n",
        "      if p2.startswith('R'):\n",
        "        if registros[int(p2[1:])] == 0:\n",
        "          print('ERRO. Divisão por 0.')\n",
        "          break\n",
        "\n",
        "        posDestino = int(p1[1:])\n",
        "        posOrigem = int(p2[1:])\n",
        "\n",
        "        registros[posDestino] = registros[posDestino] / registros[posOrigem]\n",
        "        MostraMemoria()\n",
        "\n",
        "      else:\n",
        "        if int(p2) == 0:\n",
        "          print('ERRO. Divisão por 0.')\n",
        "          break\n",
        "        posDestino = int(p1[1:])\n",
        "        ValorParametro = int(p2)\n",
        "\n",
        "\n",
        "\n",
        "        registros[posDestino] = registros[posDestino] / ValorParametro\n",
        "        MostraMemoria()\n",
        "\n"
      ],
      "metadata": {
        "colab": {
          "base_uri": "https://localhost:8080/"
        },
        "id": "jc0xRcFO71Z1",
        "outputId": "f0ddb4c7-b0f7-489f-de91-2b85b581e8cd"
      },
      "execution_count": 5,
      "outputs": [
        {
          "output_type": "stream",
          "name": "stdout",
          "text": [
            "Digite o comando: LOAD R0,5\n",
            "[5, 0, 0, 0, 0, 0, 0, 0, 0, 0]\n",
            "Digite o comando: ADD R1,10\n",
            "[5, 10, 0, 0, 0, 0, 0, 0, 0, 0]\n",
            "Digite o comando: DIV R1,R0\n",
            "[5, 2.0, 0, 0, 0, 0, 0, 0, 0, 0]\n",
            "Digite o comando: DIV R2,R1\n",
            "[5, 2.0, 0.0, 0, 0, 0, 0, 0, 0, 0]\n",
            "Digite o comando: DIV R5,R0\n",
            "[5, 2.0, 0.0, 0, 0, 0.0, 0, 0, 0, 0]\n",
            "Digite o comando: DIV R0,R4\n",
            "ERRO. Divisão por 0.\n"
          ]
        }
      ]
    },
    {
      "cell_type": "code",
      "source": [],
      "metadata": {
        "id": "aD6GbrFajeuD"
      },
      "execution_count": null,
      "outputs": []
    }
  ]
}
