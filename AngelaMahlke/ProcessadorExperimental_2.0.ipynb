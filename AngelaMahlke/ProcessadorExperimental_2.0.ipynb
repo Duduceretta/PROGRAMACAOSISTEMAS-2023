{
  "nbformat": 4,
  "nbformat_minor": 0,
  "metadata": {
    "colab": {
      "provenance": []
    },
    "kernelspec": {
      "name": "python3",
      "display_name": "Python 3"
    },
    "language_info": {
      "name": "python"
    }
  },
  "cells": [
    {
      "cell_type": "markdown",
      "source": [
        "#Processador experimental 16bits"
      ],
      "metadata": {
        "id": "VpMOmDu87zwl"
      }
    },
    {
      "cell_type": "code",
      "source": [
        "registros = []\n",
        "\n",
        "def MostraMemoria():\n",
        "  global registros\n",
        "  print(registros)\n",
        "\n",
        "def memoria():\n",
        "  global registros\n",
        "\n",
        "  for i in range(10):\n",
        "    registros.append(0)\n",
        "\n",
        "  return registros\n",
        "\n",
        "memoria()\n",
        "\n",
        "cmd = ''\n",
        "\n",
        "while(cmd != 'HALT'):\n",
        "  cmd = input('Digite o comando: ')\n",
        "  elementos = cmd.split(' ') # elementos = ['comando', 'parametros']\n",
        "\n",
        "  if len(elementos) == 2:\n",
        "    param = elementos[1] .split(',') # parametros = ['parametro 1', 'parametro 2']\n",
        "    p1 = param[0]\n",
        "    p2 = param[1]\n",
        "\n",
        "    if elementos[0] == 'LOAD':\n",
        "      if p2.startswith('R'):\n",
        "        posicaoOrigem = int(p2[1:]) # PARAMETRO 2 TIRANDO O R\n",
        "        posicaoDestino = int(p1[1:]) # PARAMETRO 1 TIRANDO O R\n",
        "        registros[posicaoDestino] = registros[posicaoOrigem]\n",
        "        MostraMemoria()\n",
        "      else:\n",
        "        posicao = int(p1[1:])\n",
        "        registros[posicao] = int(p2)\n",
        "        MostraMemoria()\n",
        "    elif elementos[0] == 'ADD':\n",
        "        if p2.startswith('R'):\n",
        "\n",
        "          posDestino = int(p1[1:])\n",
        "          posOrigem = int(p2[1:])\n",
        "\n",
        "          registros[posDestino] += registros[posOrigem]\n",
        "          MostraMemoria()\n",
        "        else:\n",
        "          posDestino = int(p1[1:])\n",
        "          ValorParametro = int(p2)\n",
        "\n",
        "          registros[posDestino] += ValorParametro\n",
        "          MostraMemoria()\n",
        "\n",
        "    elif elementos[0] == 'SUB':\n",
        "      if p2.startswith('R'):\n",
        "\n",
        "        posDestino = int(p1[1:])\n",
        "        posOrigem = int(p2[1:])\n",
        "\n",
        "        registros[posDestino] = registros[posDestino] - registros[posOrigem]\n",
        "        MostraMemoria()\n",
        "      else:\n",
        "        posDestino = int(p1[1:])\n",
        "        ValorParametro = int(p2)\n",
        "\n",
        "        registros[posDestino] = registros[posDestino] - ValorParametro\n",
        "        MostraMemoria()\n",
        "\n",
        "    elif elementos[0] == 'MULT':\n",
        "      if p2.startswith('R'):\n",
        "\n",
        "        posDestino = int(p1[1:])\n",
        "        posOrigem = int(p2[1:])\n",
        "\n",
        "        registros[posDestino] = registros[posDestino] * registros[posOrigem]\n",
        "        MostraMemoria()\n",
        "\n",
        "      else:\n",
        "        posDestino = int(p1[1:])\n",
        "        ValorParametro = int(p2)\n",
        "\n",
        "        registros[posDestino] = registros[posDestino] * ValorParametro\n",
        "        MostraMemoria()\n",
        "    elif elementos[0] == 'DIV':\n",
        "      if int(p2) == 0:\n",
        "        print('ERRO. Divisão por 0.')\n",
        "        break\n",
        "\n",
        "      if p2.startswith('R'):\n",
        "        posDestino = int(p1[1:])\n",
        "        posOrigem = int(p2[1:])\n",
        "\n",
        "        registros[posDestino] = registros[posDestino] / registros[posOrigem]\n",
        "        MostraMemoria()\n",
        "\n",
        "      else:\n",
        "\n",
        "        posDestino = int(p1[1:])\n",
        "        ValorParametro = int(p2)\n",
        "\n",
        "\n",
        "\n",
        "        registros[posDestino] = registros[posDestino] / ValorParametro\n",
        "        MostraMemoria()\n",
        "\n"
      ],
      "metadata": {
        "colab": {
          "base_uri": "https://localhost:8080/"
        },
        "id": "jc0xRcFO71Z1",
        "outputId": "38ed71c1-9e1b-4142-b667-bb8b3fbe1e9f"
      },
      "execution_count": null,
      "outputs": [
        {
          "output_type": "error",
          "ename": "KeyboardInterrupt",
          "evalue": "ignored",
          "traceback": [
            "\u001b[0;31m---------------------------------------------------------------------------\u001b[0m",
            "\u001b[0;31mKeyboardInterrupt\u001b[0m                         Traceback (most recent call last)",
            "\u001b[0;32m<ipython-input-1-3e9e3082bc91>\u001b[0m in \u001b[0;36m<cell line: 19>\u001b[0;34m()\u001b[0m\n\u001b[1;32m     18\u001b[0m \u001b[0;34m\u001b[0m\u001b[0m\n\u001b[1;32m     19\u001b[0m \u001b[0;32mwhile\u001b[0m\u001b[0;34m(\u001b[0m\u001b[0mcmd\u001b[0m \u001b[0;34m!=\u001b[0m \u001b[0;34m'HALT'\u001b[0m\u001b[0;34m)\u001b[0m\u001b[0;34m:\u001b[0m\u001b[0;34m\u001b[0m\u001b[0;34m\u001b[0m\u001b[0m\n\u001b[0;32m---> 20\u001b[0;31m   \u001b[0mcmd\u001b[0m \u001b[0;34m=\u001b[0m \u001b[0minput\u001b[0m\u001b[0;34m(\u001b[0m\u001b[0;34m'Digite o comando: '\u001b[0m\u001b[0;34m)\u001b[0m\u001b[0;34m\u001b[0m\u001b[0;34m\u001b[0m\u001b[0m\n\u001b[0m\u001b[1;32m     21\u001b[0m   \u001b[0melementos\u001b[0m \u001b[0;34m=\u001b[0m \u001b[0mcmd\u001b[0m\u001b[0;34m.\u001b[0m\u001b[0msplit\u001b[0m\u001b[0;34m(\u001b[0m\u001b[0;34m' '\u001b[0m\u001b[0;34m)\u001b[0m \u001b[0;31m# elementos = ['comando', 'parametros']\u001b[0m\u001b[0;34m\u001b[0m\u001b[0;34m\u001b[0m\u001b[0m\n\u001b[1;32m     22\u001b[0m \u001b[0;34m\u001b[0m\u001b[0m\n",
            "\u001b[0;32m/usr/local/lib/python3.10/dist-packages/ipykernel/kernelbase.py\u001b[0m in \u001b[0;36mraw_input\u001b[0;34m(self, prompt)\u001b[0m\n\u001b[1;32m    849\u001b[0m                 \u001b[0;34m\"raw_input was called, but this frontend does not support input requests.\"\u001b[0m\u001b[0;34m\u001b[0m\u001b[0;34m\u001b[0m\u001b[0m\n\u001b[1;32m    850\u001b[0m             )\n\u001b[0;32m--> 851\u001b[0;31m         return self._input_request(str(prompt),\n\u001b[0m\u001b[1;32m    852\u001b[0m             \u001b[0mself\u001b[0m\u001b[0;34m.\u001b[0m\u001b[0m_parent_ident\u001b[0m\u001b[0;34m,\u001b[0m\u001b[0;34m\u001b[0m\u001b[0;34m\u001b[0m\u001b[0m\n\u001b[1;32m    853\u001b[0m             \u001b[0mself\u001b[0m\u001b[0;34m.\u001b[0m\u001b[0m_parent_header\u001b[0m\u001b[0;34m,\u001b[0m\u001b[0;34m\u001b[0m\u001b[0;34m\u001b[0m\u001b[0m\n",
            "\u001b[0;32m/usr/local/lib/python3.10/dist-packages/ipykernel/kernelbase.py\u001b[0m in \u001b[0;36m_input_request\u001b[0;34m(self, prompt, ident, parent, password)\u001b[0m\n\u001b[1;32m    893\u001b[0m             \u001b[0;32mexcept\u001b[0m \u001b[0mKeyboardInterrupt\u001b[0m\u001b[0;34m:\u001b[0m\u001b[0;34m\u001b[0m\u001b[0;34m\u001b[0m\u001b[0m\n\u001b[1;32m    894\u001b[0m                 \u001b[0;31m# re-raise KeyboardInterrupt, to truncate traceback\u001b[0m\u001b[0;34m\u001b[0m\u001b[0;34m\u001b[0m\u001b[0m\n\u001b[0;32m--> 895\u001b[0;31m                 \u001b[0;32mraise\u001b[0m \u001b[0mKeyboardInterrupt\u001b[0m\u001b[0;34m(\u001b[0m\u001b[0;34m\"Interrupted by user\"\u001b[0m\u001b[0;34m)\u001b[0m \u001b[0;32mfrom\u001b[0m \u001b[0;32mNone\u001b[0m\u001b[0;34m\u001b[0m\u001b[0;34m\u001b[0m\u001b[0m\n\u001b[0m\u001b[1;32m    896\u001b[0m             \u001b[0;32mexcept\u001b[0m \u001b[0mException\u001b[0m \u001b[0;32mas\u001b[0m \u001b[0me\u001b[0m\u001b[0;34m:\u001b[0m\u001b[0;34m\u001b[0m\u001b[0;34m\u001b[0m\u001b[0m\n\u001b[1;32m    897\u001b[0m                 \u001b[0mself\u001b[0m\u001b[0;34m.\u001b[0m\u001b[0mlog\u001b[0m\u001b[0;34m.\u001b[0m\u001b[0mwarning\u001b[0m\u001b[0;34m(\u001b[0m\u001b[0;34m\"Invalid Message:\"\u001b[0m\u001b[0;34m,\u001b[0m \u001b[0mexc_info\u001b[0m\u001b[0;34m=\u001b[0m\u001b[0;32mTrue\u001b[0m\u001b[0;34m)\u001b[0m\u001b[0;34m\u001b[0m\u001b[0;34m\u001b[0m\u001b[0m\n",
            "\u001b[0;31mKeyboardInterrupt\u001b[0m: Interrupted by user"
          ]
        }
      ]
    },
    {
      "cell_type": "code",
      "source": [],
      "metadata": {
        "id": "aD6GbrFajeuD"
      },
      "execution_count": null,
      "outputs": []
    }
  ]
}