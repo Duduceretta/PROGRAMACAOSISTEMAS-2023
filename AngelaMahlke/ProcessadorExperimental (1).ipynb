{
  "nbformat": 4,
  "nbformat_minor": 0,
  "metadata": {
    "colab": {
      "provenance": []
    },
    "kernelspec": {
      "name": "python3",
      "display_name": "Python 3"
    },
    "language_info": {
      "name": "python"
    }
  },
  "cells": [
    {
      "cell_type": "markdown",
      "source": [
        "#Processador experimental 16bits"
      ],
      "metadata": {
        "id": "VpMOmDu87zwl"
      }
    },
    {
      "cell_type": "code",
      "source": [
        "registros = []\n",
        "\n",
        "def MostraMemoria():\n",
        "  global registros\n",
        "  print(registros)\n",
        "\n",
        "def memoria():\n",
        "  global registros\n",
        "\n",
        "  for i in range(10):\n",
        "    registros.append(0)\n",
        "\n",
        "  return registros\n",
        "\n",
        "memoria()\n",
        "\n",
        "cmd = ''\n",
        "\n",
        "while(cmd != 'HALT'):\n",
        "  cmd = input('Digite o comando: ')\n",
        "  elementos = cmd.split(' ') # elementos = ['comando', 'parametros']\n",
        "\n",
        "  if len(elementos) == 2:\n",
        "    param = elementos[1] .split(',') # parametros = ['parametro 1', 'parametro 2']\n",
        "    p1 = param[0]\n",
        "    p2 = param[1]\n",
        "\n",
        "    if elementos[0] == 'LOAD':\n",
        "      if p2.startswith('R'):\n",
        "        posicaoOrigem = int(p2[1:]) # PARAMETRO 2 TIRANDO O R\n",
        "        posicaoDestino = int(p1[1:]) # PARAMETRO 1 TIRANDO O R\n",
        "        registros[posicaoDestino] = registros[posicaoOrigem]\n",
        "        MostraMemoria()\n",
        "      else:\n",
        "        posicao = int(p1[1:])\n",
        "        registros[posicao] = int(p2)\n",
        "        MostraMemoria()\n",
        "    elif elementos[0] == 'ADD':\n",
        "\n",
        "      param = elementos[1].split(',')\n",
        "      print(f'quantidade de parametros = {len(param)}')\n",
        "\n",
        "      if len(param) == 3: # se tiverem 3 parametros\n",
        "          p1 = param[0] # parâmetro 1 (destino)\n",
        "          p2 = param[1]\n",
        "          p3 = param[2] # parâmetros 2 e 3 (origem)\n",
        "\n",
        "          # Parametros sem o 'R' para usar nas posicoes\n",
        "          posDestino = int(p1[1:])\n",
        "          posOrigem1 = int(p2[1:])\n",
        "          posOrigem2 = int(p3[1:])\n",
        "\n",
        "          valoresOrigem = (registros[posOrigem1] + registros[posOrigem2])\n",
        "          registros[posDestino] += valoresOrigem\n",
        "          MostraMemoria()\n",
        "\n",
        "      elif len(param) == 2: # se tiverem 2 parametros\n",
        "        if p2.startswith('R'):\n",
        "          p1 = param[0] # parâmetro 1 (destino)\n",
        "          p2 = param[1] # parâmetro 2 (origem)\n",
        "\n",
        "          posDestino = int(p1[1:])\n",
        "          posOrigem = int(p2[1:])\n",
        "\n",
        "          registros[posDestino] += registros[posOrigem]\n",
        "          MostraMemoria()\n",
        "        else:\n",
        "          p1 = param[0] # parâmetro 1 (destino)\n",
        "          p2 = param[1] # parâmetro 2 (origem)\n",
        "\n",
        "          posDestino = int(p1[1:])\n",
        "          ValorParametro = int(p2)\n",
        "\n",
        "          registros[posDestino] += ValorParametro\n",
        "          MostraMemoria()\n"
      ],
      "metadata": {
        "colab": {
          "base_uri": "https://localhost:8080/"
        },
        "id": "jc0xRcFO71Z1",
        "outputId": "edac0fa9-c0a8-473d-d072-9013578a8b22"
      },
      "execution_count": 18,
      "outputs": [
        {
          "name": "stdout",
          "output_type": "stream",
          "text": [
            "Digite o comando: LOAD R0,10\n",
            "[10, 0, 0, 0, 0, 0, 0, 0, 0, 0]\n",
            "Digite o comando: LOAD R1,20\n",
            "[10, 20, 0, 0, 0, 0, 0, 0, 0, 0]\n",
            "Digite o comando: ADD R2,R0,R1\n",
            "quantidade de parametros = 3\n",
            "[10, 20, 30, 0, 0, 0, 0, 0, 0, 0]\n",
            "Digite o comando: LOAD R3,10\n",
            "[10, 20, 30, 10, 0, 0, 0, 0, 0, 0]\n",
            "Digite o comando: ADD R3,10\n",
            "quantidade de parametros = 2\n",
            "[10, 20, 30, 20, 0, 0, 0, 0, 0, 0]\n",
            "Digite o comando: HALT\n"
          ]
        }
      ]
    }
  ]
}