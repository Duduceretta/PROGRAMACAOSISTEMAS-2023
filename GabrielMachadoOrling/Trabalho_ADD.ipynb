{
  "cells": [
    {
      "cell_type": "code",
      "execution_count": null,
      "metadata": {
        "colab": {
          "base_uri": "https://localhost:8080/"
        },
        "id": "Smn-BhfH7290",
        "outputId": "7574c0e7-022b-4ed2-8b7f-85a9cd4e766a"
      },
      "outputs": [
        {
          "output_type": "stream",
          "name": "stdout",
          "text": [
            "Digite o comando: ADD R2,10\n",
            "[0, 0, 10, 0, 0, 0, 0, 0, 0, 0]\n",
            "Digite o comando: ADD R2,40\n",
            "[0, 0, 50, 0, 0, 0, 0, 0, 0, 0]\n"
          ]
        }
      ],
      "source": [
        "registros = []\n",
        "\n",
        "def mostraMemoria():\n",
        "  global registros\n",
        "  print(registros)\n",
        "\n",
        "def memoria():\n",
        "  global registros\n",
        "  for i in range(10):\n",
        "    registros.append(0)\n",
        "  return registros\n",
        "\n",
        "memoria()\n",
        "cmd = ''\n",
        "while cmd!='HALT':\n",
        "  cmd = input('Digite o comando: ')\n",
        "  elementos = cmd.split(' ')\n",
        "\n",
        "  if len(elementos)==2:\n",
        "    parametros = elementos[1].split(',')\n",
        "    p1 = parametros[0]\n",
        "    p2 = parametros[1]\n",
        "    if elementos[0]=='LOAD':\n",
        "      if p2.startswith('R'):\n",
        "        posicaoOrigem = int(p2[1:])\n",
        "        posicaoDestino = int(p1[1:])\n",
        "        registros[posicaoDestino] = registros[posicaoOrigem]\n",
        "        mostraMemoria()\n",
        "      else:\n",
        "        posicao = int(p1[1:])\n",
        "        registros[posicao] = int(p2)\n",
        "        mostraMemoria()\n",
        "    if elementos[0]=='ADD':\n",
        "      if p2.startswith('R'):\n",
        "        posicaoOrigem = int(p2[1:])\n",
        "        posicaoDestino = int(p1[1:])\n",
        "        registros[posicaoDestino] = registros[posicaoDestino]+registros[posicaoOrigem]\n",
        "        mostraMemoria()\n",
        "      else:\n",
        "        posicao = int(p1[1:])\n",
        "        registros[posicao] = int(p2)+registros[posicao]\n",
        "        mostraMemoria()\n",
        "\n",
        "\n",
        "\n"
      ]
    },
    {
      "cell_type": "markdown",
      "metadata": {
        "id": "OsI-NqvFEovY"
      },
      "source": [
        "implementar o comando ADD. ADD R0,R1 = R0 = R0+R1"
      ]
    }
  ],
  "metadata": {
    "colab": {
      "provenance": []
    },
    "kernelspec": {
      "display_name": "Python 3",
      "name": "python3"
    },
    "language_info": {
      "name": "python"
    }
  },
  "nbformat": 4,
  "nbformat_minor": 0
}