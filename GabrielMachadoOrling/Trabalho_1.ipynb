{
  "nbformat": 4,
  "nbformat_minor": 0,
  "metadata": {
    "colab": {
      "provenance": []
    },
    "kernelspec": {
      "name": "python3",
      "display_name": "Python 3"
    },
    "language_info": {
      "name": "python"
    }
  },
  "cells": [
    {
      "cell_type": "markdown",
      "source": [
        "Ampliar o codigo dec-to-bin (converte decimal para binario) de forma que consigamos converter\n",
        "numeros inteiros e fracionarios, positivos e negativos para binario.\n",
        "Entrega ate 05 setembro, valendo 2 pontos na primeira nota."
      ],
      "metadata": {
        "id": "_OqCWxlit37y"
      }
    },
    {
      "cell_type": "code",
      "source": [
        "numero = input('Digite um numero: ')\n",
        "if '.' in numero or ',' in numero:\n",
        "  numero = numero.replace(',', '.')\n",
        "  numeros = numero.split('.')\n",
        "  n1 = int(numeros[0])\n",
        "  n2str = ''\n",
        "  n2str = '0.'+numeros[1]\n",
        "  n2 = float(n2str)\n",
        "  flag = 1\n",
        "else:\n",
        "  n1 = int(numero)\n",
        "  flag = 0\n",
        "numeroBin = '' #OUTPUT\n",
        "result = int(n1/2)\n",
        "while result >= 1:\n",
        "  sbtn = result*2\n",
        "  diff = n1-sbtn\n",
        "  numeroBin = str(diff)+numeroBin\n",
        "  n1 = result\n",
        "  if result==1 or result == 0:\n",
        "    break\n",
        "  result = int(n1/2)\n",
        "numeroBin = str(result)+numeroBin\n",
        "if flag == 1:\n",
        "  while n2!= 0:\n",
        "  nm = n2*2\n",
        "  nmstr = str(nm)\n",
        "  nmsplit = nmstr.split('.')\n",
        "  numeroBin2 = ''\n",
        "  numeroBin2 = numeroBin2+str(nmsplit[0])\n",
        "\n",
        "print(numeroBin2)\n",
        "print(numeroBin)"
      ],
      "metadata": {
        "colab": {
          "base_uri": "https://localhost:8080/"
        },
        "id": "RC7AVaaZuHUY",
        "outputId": "8316b274-ca17-4cc5-bd80-f46db2def9e5"
      },
      "execution_count": 5,
      "outputs": [
        {
          "output_type": "stream",
          "name": "stdout",
          "text": [
            "Digite um numero: 12.2\n",
            "0\n",
            "1100\n"
          ]
        }
      ]
    }
  ]
}