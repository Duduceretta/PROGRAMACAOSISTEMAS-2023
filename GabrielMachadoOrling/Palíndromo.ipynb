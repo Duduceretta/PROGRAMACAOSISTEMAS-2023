{
  "nbformat": 4,
  "nbformat_minor": 0,
  "metadata": {
    "colab": {
      "provenance": []
    },
    "kernelspec": {
      "name": "python3",
      "display_name": "Python 3"
    },
    "language_info": {
      "name": "python"
    }
  },
  "cells": [
    {
      "cell_type": "code",
      "execution_count": 8,
      "metadata": {
        "colab": {
          "base_uri": "https://localhost:8080/"
        },
        "id": "_U6Zu-NkQ-3l",
        "outputId": "482e836f-5d4a-4d47-84f7-401c27e81b8d"
      },
      "outputs": [
        {
          "output_type": "stream",
          "name": "stdout",
          "text": [
            "Digite uma palavra: arara\n",
            "É um palíndromo\n"
          ]
        }
      ],
      "source": [
        "def inverter(string):\n",
        "    nova = \"\"\n",
        "    for letra in string:\n",
        "      nova = letra + nova\n",
        "    return nova\n",
        "\n",
        "palavra = input('Digite uma palavra: ')\n",
        "minuscula = palavra.lower()\n",
        "invertida = inverter(minuscula)\n",
        "\n",
        "if minuscula == invertida:\n",
        "  print('É um palíndromo')\n",
        "else:\n",
        "  print('Não é um palíndromo')"
      ]
    }
  ]
}