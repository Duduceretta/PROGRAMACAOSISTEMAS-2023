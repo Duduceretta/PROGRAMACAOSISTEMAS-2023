{
  "cells": [
    {
      "cell_type": "code",
      "execution_count": null,
      "metadata": {
        "id": "Smn-BhfH7290"
      },
      "outputs": [],
      "source": [
        "registros = []\n",
        "\n",
        "def mostraMemoria():\n",
        "  global registros\n",
        "  print(registros)\n",
        "\n",
        "def memoria():\n",
        "  global registros\n",
        "  for i in range(10):\n",
        "    registros.append(0)\n",
        "  return registros\n",
        "\n",
        "memoria()\n",
        "cmd = ''\n",
        "while cmd!='HALT':\n",
        "  cmd = input('Digite o comando: ')\n",
        "  elementos = cmd.split(' ')\n",
        "\n",
        "  if len(elementos)==2:\n",
        "    parametros = elementos[1].split(',')\n",
        "    p1 = parametros[0]\n",
        "    p2 = parametros[1]\n",
        "    if elementos[0]=='LOAD':\n",
        "      if p2.startswith('R'):\n",
        "        posicaoOrigem = int(p2[1:])\n",
        "        posicaoDestino = int(p1[1:])\n",
        "        registros[posicaoDestino] = registros[posicaoOrigem]\n",
        "        mostraMemoria()\n",
        "      else:\n",
        "        posicao = int(p1[1:])\n",
        "        registros[posicao] = int(p2)\n",
        "        mostraMemoria()\n",
        "    if elementos[0]=='ADD':\n",
        "      if p2.startswith('R'):\n",
        "        posicaoOrigem = int(p2[1:])\n",
        "        posicaoDestino = int(p1[1:])\n",
        "        registros[posicaoDestino] = registros[posicaoDestino]+registros[posicaoOrigem]\n",
        "        mostraMemoria()\n",
        "      else:\n",
        "        posicao = int(p1[1:])\n",
        "        registros[posicao] = int(p2)+registros[posicao]\n",
        "        mostraMemoria()\n",
        "\n",
        "    if elementos[0]=='MULT':\n",
        "      if p2.startswith('R'):\n",
        "        posicaoOrigem = int(p2[1:])\n",
        "        posicaoDestino = int(p1[1:])\n",
        "        registros[posicaoDestino] = (registros[posicaoDestino])*(registros[posicaoOrigem])\n",
        "        mostraMemoria()\n",
        "      else:\n",
        "        posicao = int(p1[1:])\n",
        "        registros[posicao] = int(p2)*(registros[posicao])\n",
        "        mostraMemoria()\n",
        "\n",
        "    if elementos[0]=='DIV':\n",
        "      if p2.startswith('R'):\n",
        "        posicaoOrigem = int(p2[1:])\n",
        "        posicaoDestino = int(p1[1:])\n",
        "        registros[posicaoDestino] = (registros[posicaoDestino])/(registros[posicaoOrigem])\n",
        "        mostraMemoria()\n",
        "      else:\n",
        "        posicao = int(p1[1:])\n",
        "        registros[posicao] = (registros[posicao])/int(p2)\n",
        "        mostraMemoria()\n",
        "\n",
        "    if elementos[0]=='SUB':\n",
        "      if p2.startswith('R'):\n",
        "        posicaoOrigem = int(p2[1:])\n",
        "        posicaoDestino = int(p1[1:])\n",
        "        registros[posicaoDestino] = registros[posicaoDestino]-registros[posicaoOrigem]\n",
        "        mostraMemoria()\n",
        "      else:\n",
        "        posicao = int(p1[1:])\n",
        "        registros[posicao] = (registros[posicao])-int(p2)\n",
        "        mostraMemoria()\n",
        "\n",
        "\n",
        "\n"
      ]
    },
    {
      "cell_type": "markdown",
      "metadata": {
        "id": "OsI-NqvFEovY"
      },
      "source": [
        "implementar o comando MULT, SUB E DIV\n"
      ]
    }
  ],
  "metadata": {
    "colab": {
      "provenance": []
    },
    "kernelspec": {
      "display_name": "Python 3",
      "name": "python3"
    },
    "language_info": {
      "name": "python"
    }
  },
  "nbformat": 4,
  "nbformat_minor": 0
}