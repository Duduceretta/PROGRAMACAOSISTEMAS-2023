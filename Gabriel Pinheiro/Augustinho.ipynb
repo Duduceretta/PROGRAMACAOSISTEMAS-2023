{
  "nbformat": 4,
  "nbformat_minor": 0,
  "metadata": {
    "colab": {
      "provenance": []
    },
    "kernelspec": {
      "name": "python3",
      "display_name": "Python 3"
    },
    "language_info": {
      "name": "python"
    }
  },
  "cells": [
    {
      "cell_type": "code",
      "execution_count": null,
      "metadata": {
        "colab": {
          "base_uri": "https://localhost:8080/"
        },
        "id": "y4zgeN6v8DBT",
        "outputId": "59c302b3-7222-4538-8269-51860a002088"
      },
      "outputs": [
        {
          "metadata": {
            "tags": null
          },
          "name": "stdout",
          "output_type": "stream",
          "text": [
            "4 10\n",
            "[0, 0, 0, 0, 10, 0, 0, 0, 0, 0]\n",
            "4 10\n",
            "[0, 0, 0, 0, 25, 0, 0, 0, 0, 0]\n",
            "4 10\n",
            "[0, 0, 0, 0, 7, 0, 0, 0, 0, 0]\n"
          ]
        }
      ],
      "source": [
        "#processador experimental\n",
        "registros = []\n",
        "def mostraMemoria():\n",
        "  global registros\n",
        "  print(registros)\n",
        "\n",
        "def memoria():\n",
        "  global registros\n",
        "  for i in range(10):\n",
        "    registros.append(0)\n",
        "  return registros\n",
        "\n",
        "memoria()#constroi a memoria\n",
        "cmd=''\n",
        "while(cmd!='HALT'):\n",
        "  cmd = input('Digite o comando:')\n",
        "  elementos = cmd.split(' ')\n",
        "  if len(elementos)==2:\n",
        "    param=elementos[1].split(',')\n",
        "    p1=param[0]\n",
        "    p2=param[1]\n",
        "    if elementos[0]=='LOAD':\n",
        "      if p2.startswith('R'):\n",
        "        print('P2 eh um registro')\n",
        "        posicaoOrigem = int(p2[1:])\n",
        "        posicaoDestino = int(p1[1:])\n",
        "        registros[posicaoDestino]=registros[posicaoOrigem]\n",
        "        mostraMemoria()\n",
        "      else:\n",
        "        posicao = int(p1[1:])\n",
        "        print(posicao,len(registros))\n",
        "        registros[posicao]=int(p2)\n",
        "        mostraMemoria()\n",
        "    if elementos[0]=='ADD':\n",
        "      if p2.startswith('R'):\n",
        "        print('P2 eh um registro')\n",
        "        posicaoOrigem = int(p2[1:])\n",
        "        posicaoDestino = int(p1[1:])\n",
        "        registros[posicaoDestino]=registros[posicaoDestino]+registros[posicaoOrigem]\n",
        "        mostraMemoria()\n",
        "      else:\n",
        "        posicao = int(p1[1:])\n",
        "        print(posicao,len(registros))\n",
        "        registros[posicao] += int(p2)\n",
        "        mostraMemoria()\n",
        "    if elementos[0]=='SUB':\n",
        "      if p2.startswith('R'):\n",
        "        print('P2 eh um registro')\n",
        "        posicaoOrigem = int(p2[1:])\n",
        "        posicaoDestino = int(p1[1:])\n",
        "        registros[posicaoDestino]=registros[posicaoOrigem]-registros[posicaoDestino]\n",
        "        mostraMemoria()\n",
        "      else:\n",
        "        posicao = int(p1[1:])\n",
        "        print(posicao,len(registros))\n",
        "        registros[posicao]-=int(p2)\n",
        "        mostraMemoria()\n",
        "    if elementos[0]=='DIV':\n",
        "      if p2.startswith('R'):\n",
        "        print('P2 eh um registro')\n",
        "        posicaoOrigem = int(p2[1:])\n",
        "        posicaoDestino = int(p1[1:])\n",
        "        registros[posicaoDestino]=registros[posicaoOrigem]/registros[posicaoDestino]\n",
        "        mostraMemoria()\n",
        "      else:\n",
        "        posicao = int(p1[1:])\n",
        "        print(posicao,len(registros))\n",
        "        registros[posicao]/=int(p2)\n",
        "        mostraMemoria()\n",
        "    if elementos[0]=='MULT':\n",
        "      if p2.startswith('R'):\n",
        "        print('P2 eh um registro')\n",
        "        posicaoOrigem = int(p2[1:])\n",
        "        posicaoDestino = int(p1[1:])\n",
        "        registros[posicaoDestino]=registros[posicaoOrigem]*registros[posicaoDestino]\n",
        "        mostraMemoria()\n",
        "      else:\n",
        "        posicao = int(p1[1:])\n",
        "        print(posicao,len(registros))\n",
        "        registros[posicao]*=int(p2)\n",
        "        mostraMemoria()\n"
      ]
    }
  ]
}