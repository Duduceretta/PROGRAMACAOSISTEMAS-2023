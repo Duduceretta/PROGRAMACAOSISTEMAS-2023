{
  "nbformat": 4,
  "nbformat_minor": 0,
  "metadata": {
    "colab": {
      "provenance": []
    },
    "kernelspec": {
      "name": "python3",
      "display_name": "Python 3"
    },
    "language_info": {
      "name": "python"
    }
  },
  "cells": [
    {
      "cell_type": "code",
      "execution_count": null,
      "metadata": {
        "id": "Q0FrRLl3Zeoy"
      },
      "outputs": [],
      "source": [
        "def decimal_para_binario(numero_decimal):\n",
        "    if numero_decimal < 0:\n",
        "        sinal = \"-\"\n",
        "        numero_decimal = abs(numero_decimal)\n",
        "    else:\n",
        "        sinal = \"\"\n",
        "\n",
        "    parte_inteira = int(numero_decimal)\n",
        "    parte_decimal = numero_decimal - parte_inteira\n",
        "\n",
        "    binario_inteiro = \"\"\n",
        "    while parte_inteira > 0:\n",
        "        resto = parte_inteira % 2\n",
        "        binario_inteiro = str(resto) + binario_inteiro\n",
        "        parte_inteira //= 2\n",
        "\n",
        "    binario_decimal = \"\"\n",
        "    while parte_decimal > 0:\n",
        "        parte_decimal *= 2\n",
        "        bit = int(parte_decimal)\n",
        "        binario_decimal += str(bit)\n",
        "        parte_decimal -= bit\n",
        "\n",
        "    if not binario_inteiro:\n",
        "        binario_inteiro = \"0\"\n",
        "\n",
        "    resultado = sinal + binario_inteiro\n",
        "    if binario_decimal:\n",
        "        resultado += \".\" + binario_decimal\n",
        "\n",
        "    return resultado\n",
        "\n",
        "# Exemplo de uso\n",
        "numero_decimal =float(input('Digite um numero decimal:'))\n",
        "binario = decimal_para_binario(numero_decimal)\n",
        "print(f'O número decimal {numero_decimal} em binário é: {binario}')"
      ]
    }
  ]
}