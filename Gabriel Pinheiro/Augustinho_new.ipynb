{
  "cells": [
    {
      "cell_type": "code",
      "execution_count": 5,
      "metadata": {
        "colab": {
          "base_uri": "https://localhost:8080/",
          "height": 616
        },
        "id": "y4zgeN6v8DBT",
        "outputId": "8a1f5d06-22cb-4995-b323-87420faaf1ba"
      },
      "outputs": [
        {
          "output_type": "stream",
          "name": "stdout",
          "text": [
            "Digite o comando:R0,10\n",
            "Digite o comando:LOAD R0,10\n",
            "0 10\n",
            "[10, 0, 0, 0, 0, 0, 0, 0, 0, 0]\n",
            "Digite o comando:LOAD R1,5\n",
            "1 10\n",
            "[10, 5, 0, 0, 0, 0, 0, 0, 0, 0]\n",
            "Digite o comando:DIV R0,R1\n",
            "P2 eh um registro\n",
            "[2.0, 5, 0, 0, 0, 0, 0, 0, 0, 0]\n",
            "Digite o comando:SUB R0,R1\n",
            "P2 eh um registro\n",
            "[-3.0, 5, 0, 0, 0, 0, 0, 0, 0, 0]\n"
          ]
        },
        {
          "output_type": "error",
          "ename": "KeyboardInterrupt",
          "evalue": "ignored",
          "traceback": [
            "\u001b[0;31m---------------------------------------------------------------------------\u001b[0m",
            "\u001b[0;31mKeyboardInterrupt\u001b[0m                         Traceback (most recent call last)",
            "\u001b[0;32m<ipython-input-5-8b35563f5e94>\u001b[0m in \u001b[0;36m<cell line: 15>\u001b[0;34m()\u001b[0m\n\u001b[1;32m     14\u001b[0m \u001b[0mcmd\u001b[0m\u001b[0;34m=\u001b[0m\u001b[0;34m''\u001b[0m\u001b[0;34m\u001b[0m\u001b[0;34m\u001b[0m\u001b[0m\n\u001b[1;32m     15\u001b[0m \u001b[0;32mwhile\u001b[0m\u001b[0;34m(\u001b[0m\u001b[0mcmd\u001b[0m\u001b[0;34m!=\u001b[0m\u001b[0;34m'HALT'\u001b[0m\u001b[0;34m)\u001b[0m\u001b[0;34m:\u001b[0m\u001b[0;34m\u001b[0m\u001b[0;34m\u001b[0m\u001b[0m\n\u001b[0;32m---> 16\u001b[0;31m   \u001b[0mcmd\u001b[0m \u001b[0;34m=\u001b[0m \u001b[0minput\u001b[0m\u001b[0;34m(\u001b[0m\u001b[0;34m'Digite o comando:'\u001b[0m\u001b[0;34m)\u001b[0m\u001b[0;34m\u001b[0m\u001b[0;34m\u001b[0m\u001b[0m\n\u001b[0m\u001b[1;32m     17\u001b[0m   \u001b[0melementos\u001b[0m \u001b[0;34m=\u001b[0m \u001b[0mcmd\u001b[0m\u001b[0;34m.\u001b[0m\u001b[0msplit\u001b[0m\u001b[0;34m(\u001b[0m\u001b[0;34m' '\u001b[0m\u001b[0;34m)\u001b[0m\u001b[0;34m\u001b[0m\u001b[0;34m\u001b[0m\u001b[0m\n\u001b[1;32m     18\u001b[0m   \u001b[0;32mif\u001b[0m \u001b[0mlen\u001b[0m\u001b[0;34m(\u001b[0m\u001b[0melementos\u001b[0m\u001b[0;34m)\u001b[0m\u001b[0;34m==\u001b[0m\u001b[0;36m2\u001b[0m\u001b[0;34m:\u001b[0m\u001b[0;34m\u001b[0m\u001b[0;34m\u001b[0m\u001b[0m\n",
            "\u001b[0;32m/usr/local/lib/python3.10/dist-packages/ipykernel/kernelbase.py\u001b[0m in \u001b[0;36mraw_input\u001b[0;34m(self, prompt)\u001b[0m\n\u001b[1;32m    849\u001b[0m                 \u001b[0;34m\"raw_input was called, but this frontend does not support input requests.\"\u001b[0m\u001b[0;34m\u001b[0m\u001b[0;34m\u001b[0m\u001b[0m\n\u001b[1;32m    850\u001b[0m             )\n\u001b[0;32m--> 851\u001b[0;31m         return self._input_request(str(prompt),\n\u001b[0m\u001b[1;32m    852\u001b[0m             \u001b[0mself\u001b[0m\u001b[0;34m.\u001b[0m\u001b[0m_parent_ident\u001b[0m\u001b[0;34m,\u001b[0m\u001b[0;34m\u001b[0m\u001b[0;34m\u001b[0m\u001b[0m\n\u001b[1;32m    853\u001b[0m             \u001b[0mself\u001b[0m\u001b[0;34m.\u001b[0m\u001b[0m_parent_header\u001b[0m\u001b[0;34m,\u001b[0m\u001b[0;34m\u001b[0m\u001b[0;34m\u001b[0m\u001b[0m\n",
            "\u001b[0;32m/usr/local/lib/python3.10/dist-packages/ipykernel/kernelbase.py\u001b[0m in \u001b[0;36m_input_request\u001b[0;34m(self, prompt, ident, parent, password)\u001b[0m\n\u001b[1;32m    893\u001b[0m             \u001b[0;32mexcept\u001b[0m \u001b[0mKeyboardInterrupt\u001b[0m\u001b[0;34m:\u001b[0m\u001b[0;34m\u001b[0m\u001b[0;34m\u001b[0m\u001b[0m\n\u001b[1;32m    894\u001b[0m                 \u001b[0;31m# re-raise KeyboardInterrupt, to truncate traceback\u001b[0m\u001b[0;34m\u001b[0m\u001b[0;34m\u001b[0m\u001b[0m\n\u001b[0;32m--> 895\u001b[0;31m                 \u001b[0;32mraise\u001b[0m \u001b[0mKeyboardInterrupt\u001b[0m\u001b[0;34m(\u001b[0m\u001b[0;34m\"Interrupted by user\"\u001b[0m\u001b[0;34m)\u001b[0m \u001b[0;32mfrom\u001b[0m \u001b[0;32mNone\u001b[0m\u001b[0;34m\u001b[0m\u001b[0;34m\u001b[0m\u001b[0m\n\u001b[0m\u001b[1;32m    896\u001b[0m             \u001b[0;32mexcept\u001b[0m \u001b[0mException\u001b[0m \u001b[0;32mas\u001b[0m \u001b[0me\u001b[0m\u001b[0;34m:\u001b[0m\u001b[0;34m\u001b[0m\u001b[0;34m\u001b[0m\u001b[0m\n\u001b[1;32m    897\u001b[0m                 \u001b[0mself\u001b[0m\u001b[0;34m.\u001b[0m\u001b[0mlog\u001b[0m\u001b[0;34m.\u001b[0m\u001b[0mwarning\u001b[0m\u001b[0;34m(\u001b[0m\u001b[0;34m\"Invalid Message:\"\u001b[0m\u001b[0;34m,\u001b[0m \u001b[0mexc_info\u001b[0m\u001b[0;34m=\u001b[0m\u001b[0;32mTrue\u001b[0m\u001b[0;34m)\u001b[0m\u001b[0;34m\u001b[0m\u001b[0;34m\u001b[0m\u001b[0m\n",
            "\u001b[0;31mKeyboardInterrupt\u001b[0m: Interrupted by user"
          ]
        }
      ],
      "source": [
        "#processador experimental\n",
        "registros = []\n",
        "def mostraMemoria():\n",
        "  global registros\n",
        "  print(registros)\n",
        "\n",
        "def memoria():\n",
        "  global registros\n",
        "  for i in range(10):\n",
        "    registros.append(0)\n",
        "  return registros\n",
        "\n",
        "memoria()#constroi a memoria\n",
        "cmd=''\n",
        "while(cmd!='HALT'):\n",
        "  cmd = input('Digite o comando:')\n",
        "  elementos = cmd.split(' ')\n",
        "  if len(elementos)==2:\n",
        "    param=elementos[1].split(',')\n",
        "    p1=param[0]\n",
        "    p2=param[1]\n",
        "    if elementos[0]=='LOAD':\n",
        "      if p2.startswith('R'):\n",
        "        print('P2 eh um registro')\n",
        "        posicaoOrigem = int(p2[1:])\n",
        "        posicaoDestino = int(p1[1:])\n",
        "        registros[posicaoDestino]=registros[posicaoOrigem]\n",
        "        mostraMemoria()\n",
        "      else:\n",
        "        posicao = int(p1[1:])\n",
        "        print(posicao,len(registros))\n",
        "        registros[posicao]=int(p2)\n",
        "        mostraMemoria()\n",
        "    if elementos[0]=='ADD':\n",
        "      if p2.startswith('R'):\n",
        "        print('P2 eh um registro')\n",
        "        posicaoOrigem = int(p2[1:])\n",
        "        posicaoDestino = int(p1[1:])\n",
        "        registros[posicaoDestino]=registros[posicaoDestino]+registros[posicaoOrigem]\n",
        "        mostraMemoria()\n",
        "      else:\n",
        "        posicao = int(p1[1:])\n",
        "        print(posicao,len(registros))\n",
        "        registros[posicao] += int(p2)\n",
        "        mostraMemoria()\n",
        "    if elementos[0]=='SUB':\n",
        "      if p2.startswith('R'):\n",
        "        print('P2 eh um registro')\n",
        "        posicaoOrigem = int(p2[1:])\n",
        "        posicaoDestino = int(p1[1:])\n",
        "        registros[posicaoDestino]=registros[posicaoDestino]-registros[posicaoOrigem]\n",
        "        mostraMemoria()\n",
        "      else:\n",
        "        posicao = int(p1[1:])\n",
        "        print(posicao,len(registros))\n",
        "        registros[posicao]-=int(p2)\n",
        "        mostraMemoria()\n",
        "    if elementos[0]=='DIV':\n",
        "      if p2.startswith('R'):\n",
        "        print('P2 eh um registro')\n",
        "        posicaoOrigem = int(p2[1:])\n",
        "        posicaoDestino = int(p1[1:])\n",
        "        registros[posicaoDestino]=registros[posicaoDestino]/registros[posicaoOrigem]\n",
        "        mostraMemoria()\n",
        "      else:\n",
        "        posicao = int(p1[1:])\n",
        "        print(posicao,len(registros))\n",
        "        registros[posicao]/=int(p2)\n",
        "        mostraMemoria()\n",
        "    if elementos[0]=='MULT':\n",
        "      if p2.startswith('R'):\n",
        "        print('P2 eh um registro')\n",
        "        posicaoOrigem = int(p2[1:])\n",
        "        posicaoDestino = int(p1[1:])\n",
        "        registros[posicaoDestino]=registros[posicaoOrigem]*registros[posicaoDestino]\n",
        "        mostraMemoria()\n",
        "      else:\n",
        "        posicao = int(p1[1:])\n",
        "        print(posicao,len(registros))\n",
        "        registros[posicao]*=int(p2)\n",
        "        mostraMemoria()\n"
      ]
    }
  ],
  "metadata": {
    "colab": {
      "provenance": []
    },
    "kernelspec": {
      "display_name": "Python 3",
      "name": "python3"
    },
    "language_info": {
      "name": "python"
    }
  },
  "nbformat": 4,
  "nbformat_minor": 0
}