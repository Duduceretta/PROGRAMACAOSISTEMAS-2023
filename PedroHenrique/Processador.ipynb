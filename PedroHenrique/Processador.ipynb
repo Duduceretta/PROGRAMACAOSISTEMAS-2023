{
  "cells": [
    {
      "cell_type": "code",
      "execution_count": 4,
      "metadata": {
        "colab": {
          "base_uri": "https://localhost:8080/"
        },
        "id": "X5kJyQMN74x8",
        "outputId": "add5fad8-f346-49fc-dcf4-41ccb56b4059"
      },
      "outputs": [
        {
          "name": "stdout",
          "output_type": "stream",
          "text": [
            "Digite o comando:ADD R0,1\n",
            "[1, 0, 0, 0, 0, 0, 0, 0, 0, 0]\n",
            "Digite o comando:ADD R0,3\n",
            "[4, 0, 0, 0, 0, 0, 0, 0, 0, 0]\n",
            "Digite o comando:DIV R0,2\n",
            "[2.0, 0, 0, 0, 0, 0, 0, 0, 0, 0]\n",
            "Digite o comando:SUB R0,1\n",
            "[1.0, 0, 0, 0, 0, 0, 0, 0, 0, 0]\n",
            "Digite o comando:MUL R0,5\n",
            "[5.0, 0, 0, 0, 0, 0, 0, 0, 0, 0]\n",
            "Digite o comando:HALT\n"
          ]
        }
      ],
      "source": [
        "registros = []\n",
        "def memoria():\n",
        "  global registros\n",
        "  for i in range(10):\n",
        "    registros.append(0)\n",
        "  return registros\n",
        "\n",
        "memoria()\n",
        "cmd = ''\n",
        "while(cmd != \"HALT\"):\n",
        "  cmd = input('Digite o comando:')\n",
        "  elementos = cmd.split(' ')\n",
        "  if(len(elementos) == 2):\n",
        "\n",
        "    parametros = elementos[1].split(',')\n",
        "    p1 = parametros[0]\n",
        "    p2 = parametros[1]\n",
        "\n",
        "    if(elementos[0] == \"LOAD\"):\n",
        "      if(p2.startswith('R')):\n",
        "        posicaoOrigem = int(p2[1:])\n",
        "        posicaoDestino = int(p1[1:])\n",
        "        registros[posicaoDestino] = registros[posicaoOrigem]\n",
        "      else:\n",
        "        posicao = int(p1[1:])\n",
        "        registros[posicao] = int(p2)\n",
        "    elif(elementos[0] == \"ADD\"):\n",
        "      if(p2.startswith('R')):\n",
        "        posicaoOrigem = int(p2[1:])\n",
        "        posicaoDestino = int(p1[1:])\n",
        "        registros[posicaoDestino] += registros[posicaoOrigem]\n",
        "      else:\n",
        "        posicao = int(p1[1:])\n",
        "        registros[posicao] += int(p2)\n",
        "\n",
        "    elif(elementos[0] == \"SUB\"):\n",
        "      if(p2.startswith('R')):\n",
        "        posicaoOrigem = int(p2[1:])\n",
        "        posicaoDestino = int(p1[1:])\n",
        "        registros[posicaoDestino] -= registros[posicaoOrigem]\n",
        "      else:\n",
        "        posicao = int(p1[1:])\n",
        "        registros[posicao] -= int(p2)\n",
        "    elif(elementos[0] == \"DIV\"):\n",
        "      if(p2.startswith('R')):\n",
        "        posicaoOrigem = int(p2[1:])\n",
        "        posicaoDestino = int(p1[1:])\n",
        "        if(registros[posicaoOrigem] != 0):\n",
        "          registros[posicaoDestino] /= registros[posicaoOrigem]\n",
        "        else:\n",
        "          print(\"Nao se pode dividir por 0 queridao\")\n",
        "      else:\n",
        "        posicao = int(p1[1:])\n",
        "        registros[posicao] /= int(p2)\n",
        "    elif(elementos[0] == \"MUL\"):\n",
        "      if(p2.startswith('R')):\n",
        "        posicaoOrigem = int(p2[1:])\n",
        "        posicaoDestino = int(p1[1:])\n",
        "        registros[posicaoDestino] *= registros[posicaoOrigem]\n",
        "      else:\n",
        "        posicao = int(p1[1:])\n",
        "        registros[posicao] *= int(p2)\n",
        "    print(registros)"
      ]
    }
  ],
  "metadata": {
    "colab": {
      "provenance": []
    },
    "kernelspec": {
      "display_name": "Python 3",
      "name": "python3"
    },
    "language_info": {
      "name": "python"
    }
  },
  "nbformat": 4,
  "nbformat_minor": 0
}